{
 "cells": [
  {
   "cell_type": "code",
   "execution_count": 8,
   "metadata": {
    "ExecuteTime": {
     "end_time": "2021-02-02T12:02:28.018142Z",
     "start_time": "2021-02-02T12:02:26.890752Z"
    }
   },
   "outputs": [],
   "source": [
    "#Importing the libraries\n",
    "import numpy as np\n",
    "import pandas as pd\n",
    "import matplotlib.pyplot as plt\n",
    "import seaborn as sns"
   ]
  },
  {
   "cell_type": "code",
   "execution_count": 9,
   "metadata": {
    "ExecuteTime": {
     "end_time": "2021-02-02T12:02:28.115061Z",
     "start_time": "2021-02-02T12:02:28.105091Z"
    },
    "hide_input": true
   },
   "outputs": [],
   "source": [
    "#Convert the file to csv\n",
    "#!pip install openpyxl\n",
    "#data = pd.read_excel ('WildFire_Prediction_Data_Set.xlsx', engine='openpyxl') \n",
    "#data.to_csv('Data.csv', sep=',', index=False)"
   ]
  },
  {
   "cell_type": "code",
   "execution_count": 10,
   "metadata": {
    "ExecuteTime": {
     "end_time": "2021-02-02T12:02:28.650158Z",
     "start_time": "2021-02-02T12:02:28.186076Z"
    }
   },
   "outputs": [
    {
     "data": {
      "text/html": [
       "<div>\n",
       "<style scoped>\n",
       "    .dataframe tbody tr th:only-of-type {\n",
       "        vertical-align: middle;\n",
       "    }\n",
       "\n",
       "    .dataframe tbody tr th {\n",
       "        vertical-align: top;\n",
       "    }\n",
       "\n",
       "    .dataframe thead th {\n",
       "        text-align: right;\n",
       "    }\n",
       "</style>\n",
       "<table border=\"1\" class=\"dataframe\">\n",
       "  <thead>\n",
       "    <tr style=\"text-align: right;\">\n",
       "      <th></th>\n",
       "      <th>NDVI</th>\n",
       "      <th>LST</th>\n",
       "      <th>BURNED_AREA</th>\n",
       "      <th>CLASS</th>\n",
       "    </tr>\n",
       "  </thead>\n",
       "  <tbody>\n",
       "    <tr>\n",
       "      <th>0</th>\n",
       "      <td>0.506782</td>\n",
       "      <td>14584.272727</td>\n",
       "      <td>4.692308</td>\n",
       "      <td>no_fire</td>\n",
       "    </tr>\n",
       "    <tr>\n",
       "      <th>1</th>\n",
       "      <td>0.522150</td>\n",
       "      <td>14655.833333</td>\n",
       "      <td>5.000000</td>\n",
       "      <td>no_fire</td>\n",
       "    </tr>\n",
       "    <tr>\n",
       "      <th>2</th>\n",
       "      <td>0.682284</td>\n",
       "      <td>14780.000000</td>\n",
       "      <td>5.000000</td>\n",
       "      <td>fire</td>\n",
       "    </tr>\n",
       "    <tr>\n",
       "      <th>3</th>\n",
       "      <td>0.120046</td>\n",
       "      <td>13298.500000</td>\n",
       "      <td>3.500000</td>\n",
       "      <td>no_fire</td>\n",
       "    </tr>\n",
       "    <tr>\n",
       "      <th>4</th>\n",
       "      <td>0.568734</td>\n",
       "      <td>14743.000000</td>\n",
       "      <td>5.000000</td>\n",
       "      <td>no_fire</td>\n",
       "    </tr>\n",
       "  </tbody>\n",
       "</table>\n",
       "</div>"
      ],
      "text/plain": [
       "       NDVI           LST  BURNED_AREA    CLASS\n",
       "0  0.506782  14584.272727     4.692308  no_fire\n",
       "1  0.522150  14655.833333     5.000000  no_fire\n",
       "2  0.682284  14780.000000     5.000000     fire\n",
       "3  0.120046  13298.500000     3.500000  no_fire\n",
       "4  0.568734  14743.000000     5.000000  no_fire"
      ]
     },
     "execution_count": 10,
     "metadata": {},
     "output_type": "execute_result"
    }
   ],
   "source": [
    "df = pd.read_csv('Data.csv')\n",
    "df.head()"
   ]
  },
  {
   "cell_type": "code",
   "execution_count": 11,
   "metadata": {
    "ExecuteTime": {
     "end_time": "2021-02-02T12:02:28.762181Z",
     "start_time": "2021-02-02T12:02:28.717175Z"
    }
   },
   "outputs": [
    {
     "name": "stdout",
     "output_type": "stream",
     "text": [
      "The empty values: \n",
      " 0\n"
     ]
    }
   ],
   "source": [
    "print('The empty values: \\n', df.isnull().sum().sum())"
   ]
  },
  {
   "cell_type": "code",
   "execution_count": 12,
   "metadata": {
    "ExecuteTime": {
     "end_time": "2021-02-02T12:02:29.078248Z",
     "start_time": "2021-02-02T12:02:29.040240Z"
    },
    "scrolled": true
   },
   "outputs": [
    {
     "name": "stdout",
     "output_type": "stream",
     "text": [
      "              NDVI           LST  BURNED_AREA\n",
      "count  1713.000000   1713.000000  1713.000000\n",
      "mean      0.555665  14622.802073     4.674973\n",
      "std       0.092847    366.927861     0.583791\n",
      "min       0.030735  13137.000000     3.000000\n",
      "25%       0.501276  14406.000000     4.521951\n",
      "50%       0.565181  14645.750000     4.920635\n",
      "75%       0.620987  14881.300000     5.000000\n",
      "max       0.781723  15611.570513     9.000000\n"
     ]
    }
   ],
   "source": [
    "print(df.describe())"
   ]
  },
  {
   "cell_type": "code",
   "execution_count": 13,
   "metadata": {
    "ExecuteTime": {
     "end_time": "2021-02-02T12:02:30.786433Z",
     "start_time": "2021-02-02T12:02:29.869679Z"
    }
   },
   "outputs": [
    {
     "data": {
      "image/png": "[encoded data removed]",
      "text/plain": [
       "<Figure size 576x144 with 1 Axes>"
      ]
     },
     "metadata": {
      "needs_background": "light"
     },
     "output_type": "display_data"
    },
    {
     "name": "stdout",
     "output_type": "stream",
     "text": [
      "No Fire: 1327\n",
      "Fire: 386\n"
     ]
    }
   ],
   "source": [
    "plt.figure(figsize = (8, 2))\n",
    "sns.countplot(y = df.CLASS)\n",
    "plt.title('No Fire VS Fire')\n",
    "plt.show()\n",
    "print('No Fire:', df['CLASS'].value_counts()[0])\n",
    "print('Fire:', df['CLASS'].value_counts()[1])"
   ]
  },
  {
   "cell_type": "code",
   "execution_count": 11,
   "metadata": {
    "ExecuteTime": {
     "end_time": "2021-02-01T13:25:55.385098Z",
     "start_time": "2021-02-01T13:25:55.372096Z"
    }
   },
   "outputs": [
    {
     "name": "stdout",
     "output_type": "stream",
     "text": [
      "X Shape: (1713, 3)\n",
      "y shape: (1713,)\n"
     ]
    }
   ],
   "source": [
    "df = df.reindex(np.random.permutation(df.index))\n",
    "X = df.iloc[:, :-1].values\n",
    "y = df.iloc[:, -1].values\n",
    "print('X Shape:', X.shape)\n",
    "print('y shape:', y.shape)"
   ]
  },
  {
   "cell_type": "code",
   "execution_count": 16,
   "metadata": {
    "ExecuteTime": {
     "end_time": "2021-02-01T13:27:12.726565Z",
     "start_time": "2021-02-01T13:27:12.700558Z"
    }
   },
   "outputs": [
    {
     "data": {
      "text/plain": [
       "array([1, 0, 1, ..., 1, 1, 1], dtype=int64)"
      ]
     },
     "execution_count": 16,
     "metadata": {},
     "output_type": "execute_result"
    }
   ],
   "source": [
    "# Encoding the class column [1: No fire, 0: Fire]\n",
    "from sklearn.preprocessing import LabelEncoder\n",
    "le = LabelEncoder()\n",
    "y = le.fit_transform(y)\n",
    "print(y)"
   ]
  },
  {
   "cell_type": "code",
   "execution_count": 17,
   "metadata": {
    "ExecuteTime": {
     "end_time": "2021-02-01T13:27:31.536457Z",
     "start_time": "2021-02-01T13:27:31.450324Z"
    }
   },
   "outputs": [],
   "source": [
    "# Splitting the dataset into the Training set and Test set\n",
    "from sklearn.model_selection import train_test_split\n",
    "X_train, X_test, y_train, y_test = train_test_split(\n",
    "    X, y, test_size=0.2, random_state=0)"
   ]
  },
  {
   "cell_type": "code",
   "execution_count": 18,
   "metadata": {
    "ExecuteTime": {
     "end_time": "2021-02-01T13:27:54.588256Z",
     "start_time": "2021-02-01T13:27:54.571129Z"
    }
   },
   "outputs": [],
   "source": [
    "# Feature Scaling\n",
    "from sklearn.preprocessing import StandardScaler\n",
    "sc = StandardScaler()\n",
    "X_train = sc.fit_transform(X_train)\n",
    "X_test = sc.transform(X_test)"
   ]
  },
  {
   "cell_type": "code",
   "execution_count": 19,
   "metadata": {
    "ExecuteTime": {
     "end_time": "2021-02-01T13:28:08.427345Z",
     "start_time": "2021-02-01T13:28:07.386421Z"
    }
   },
   "outputs": [
    {
     "data": {
      "text/plain": [
       "LogisticRegression(max_iter=120, random_state=0, solver='liblinear')"
      ]
     },
     "execution_count": 19,
     "metadata": {},
     "output_type": "execute_result"
    }
   ],
   "source": [
    "# LogisticRegression\n",
    "from sklearn.linear_model import LogisticRegression\n",
    "firstModel = LogisticRegression(\n",
    "    solver=\"liblinear\", max_iter=120, random_state=0)\n",
    "firstModel.fit(X_train, y_train)"
   ]
  },
  {
   "cell_type": "code",
   "execution_count": 20,
   "metadata": {
    "ExecuteTime": {
     "end_time": "2021-02-01T13:28:16.716280Z",
     "start_time": "2021-02-01T13:28:16.399197Z"
    }
   },
   "outputs": [
    {
     "data": {
      "image/png": "[encoded data removed]",
      "text/plain": [
       "<Figure size 432x288 with 2 Axes>"
      ]
     },
     "metadata": {
      "needs_background": "light"
     },
     "output_type": "display_data"
    }
   ],
   "source": [
    "from sklearn.metrics import plot_confusion_matrix\n",
    "plot_confusion_matrix(firstModel, X_test, y_test, cmap=plt.cm.Blues)\n",
    "plt.title('Confusion matrix for the LogisticRegression')\n",
    "plt.show()"
   ]
  },
  {
   "cell_type": "code",
   "execution_count": 21,
   "metadata": {
    "ExecuteTime": {
     "end_time": "2021-02-01T13:28:31.712354Z",
     "start_time": "2021-02-01T13:28:31.685351Z"
    }
   },
   "outputs": [
    {
     "name": "stdout",
     "output_type": "stream",
     "text": [
      "Confusion matrix: \n",
      " [[  9  58]\n",
      " [  9 267]]\n",
      "\n",
      "Accuracy score:  0.8046647230320699\n"
     ]
    }
   ],
   "source": [
    "from sklearn.metrics import confusion_matrix, accuracy_score\n",
    "y_pred = firstModel.predict(X_test)\n",
    "cm = confusion_matrix(y_test, y_pred)\n",
    "print('Confusion matrix: \\n', cm)\n",
    "print('\\nAccuracy score: ', accuracy_score(y_test, y_pred))"
   ]
  },
  {
   "cell_type": "code",
   "execution_count": 22,
   "metadata": {
    "ExecuteTime": {
     "end_time": "2021-02-01T13:29:31.742078Z",
     "start_time": "2021-02-01T13:29:30.682144Z"
    }
   },
   "outputs": [
    {
     "data": {
      "text/plain": [
       "DecisionTreeClassifier(criterion='entropy', random_state=0)"
      ]
     },
     "execution_count": 22,
     "metadata": {},
     "output_type": "execute_result"
    }
   ],
   "source": [
    "# Decession Tree\n",
    "from sklearn.tree import DecisionTreeClassifier\n",
    "secondModel = DecisionTreeClassifier(criterion = 'entropy', random_state = 0)\n",
    "secondModel.fit(X_train, y_train)"
   ]
  },
  {
   "cell_type": "code",
   "execution_count": 23,
   "metadata": {
    "ExecuteTime": {
     "end_time": "2021-02-01T13:29:42.740154Z",
     "start_time": "2021-02-01T13:29:42.398064Z"
    }
   },
   "outputs": [
    {
     "data": {
      "image/png": "[encoded data removed]",
      "text/plain": [
       "<Figure size 432x288 with 2 Axes>"
      ]
     },
     "metadata": {
      "needs_background": "light"
     },
     "output_type": "display_data"
    }
   ],
   "source": [
    "plot_confusion_matrix(secondModel, X_test, y_test, cmap=plt.cm.Blues)\n",
    "plt.title('Confusion matrix for the DecisionTree')\n",
    "plt.show()"
   ]
  },
  {
   "cell_type": "code",
   "execution_count": 33,
   "metadata": {
    "ExecuteTime": {
     "end_time": "2021-02-01T13:40:16.625636Z",
     "start_time": "2021-02-01T13:40:16.597627Z"
    }
   },
   "outputs": [
    {
     "name": "stdout",
     "output_type": "stream",
     "text": [
      "Confusion matrix for the DecisionTree: \n",
      " [[ 42  25]\n",
      " [ 42 234]]\n",
      "\n",
      "DecisionTree Accuracy score:  0.8046647230320699\n"
     ]
    }
   ],
   "source": [
    "y_pred2 = secondModel.predict(X_test)\n",
    "cm2 = confusion_matrix(y_test, y_pred2)\n",
    "print('Confusion matrix for the DecisionTree: \\n', cm2)\n",
    "print('\\nDecisionTree Accuracy score: ', accuracy_score(y_test, y_pred2))"
   ]
  },
  {
   "cell_type": "code",
   "execution_count": 46,
   "metadata": {
    "ExecuteTime": {
     "end_time": "2021-02-01T13:43:17.104136Z",
     "start_time": "2021-02-01T13:43:05.438865Z"
    }
   },
   "outputs": [
    {
     "data": {
      "text/plain": [
       "RandomForestClassifier(criterion='entropy', n_estimators=2000)"
      ]
     },
     "execution_count": 46,
     "metadata": {},
     "output_type": "execute_result"
    }
   ],
   "source": [
    "#Random Forest\n",
    "from sklearn.ensemble import RandomForestClassifier\n",
    "thirdModel = RandomForestClassifier(n_estimators = 2000, criterion='entropy')\n",
    "thirdModel.fit(X_train, y_train)"
   ]
  },
  {
   "cell_type": "code",
   "execution_count": 49,
   "metadata": {
    "ExecuteTime": {
     "end_time": "2021-02-01T13:43:43.824595Z",
     "start_time": "2021-02-01T13:43:42.994919Z"
    }
   },
   "outputs": [
    {
     "data": {
      "image/png": "[encoded data removed]",
      "text/plain": [
       "<Figure size 432x288 with 2 Axes>"
      ]
     },
     "metadata": {
      "needs_background": "light"
     },
     "output_type": "display_data"
    }
   ],
   "source": [
    "plot_confusion_matrix(thirdModel, X_test, y_test, cmap=plt.cm.Blues)\n",
    "plt.title('Confusion matrix for the Random Forest')\n",
    "plt.show()"
   ]
  },
  {
   "cell_type": "code",
   "execution_count": 47,
   "metadata": {
    "ExecuteTime": {
     "end_time": "2021-02-01T13:43:17.927163Z",
     "start_time": "2021-02-01T13:43:17.381080Z"
    }
   },
   "outputs": [
    {
     "name": "stdout",
     "output_type": "stream",
     "text": [
      "Confusion matrix for the DecisionTree: \n",
      " [[ 38  29]\n",
      " [ 13 263]]\n",
      "\n",
      "DecisionTree Accuracy score:  0.8775510204081632\n"
     ]
    }
   ],
   "source": [
    "y_pred3 = thirdModel.predict(X_test)\n",
    "cm3 = confusion_matrix(y_test, y_pred3)\n",
    "print('Confusion matrix for the Random Forest: \\n', cm3)\n",
    "print('\\nRandom Forest Accuracy score: ', accuracy_score(y_test, y_pred3))"
   ]
  },
  {
   "cell_type": "code",
   "execution_count": 75,
   "metadata": {
    "ExecuteTime": {
     "end_time": "2021-02-01T13:52:21.842406Z",
     "start_time": "2021-02-01T13:52:21.669285Z"
    }
   },
   "outputs": [
    {
     "data": {
      "text/plain": [
       "SVC(C=3.0)"
      ]
     },
     "execution_count": 75,
     "metadata": {},
     "output_type": "execute_result"
    }
   ],
   "source": [
    "#Kernal Svm\n",
    "from sklearn.svm import SVC\n",
    "forthModel = SVC(C=3.0)\n",
    "forthModel.fit(X_train, y_train)"
   ]
  },
  {
   "cell_type": "code",
   "execution_count": 76,
   "metadata": {
    "ExecuteTime": {
     "end_time": "2021-02-01T13:52:22.495403Z",
     "start_time": "2021-02-01T13:52:22.184323Z"
    }
   },
   "outputs": [
    {
     "data": {
      "image/png": "[encoded data removed]",
      "text/plain": [
       "<Figure size 432x288 with 2 Axes>"
      ]
     },
     "metadata": {
      "needs_background": "light"
     },
     "output_type": "display_data"
    }
   ],
   "source": [
    "plot_confusion_matrix(forthModel, X_test, y_test, cmap=plt.cm.Blues)\n",
    "plt.title('Confusion matrix for the Kernal SVM')\n",
    "plt.show()"
   ]
  },
  {
   "cell_type": "code",
   "execution_count": 77,
   "metadata": {
    "ExecuteTime": {
     "end_time": "2021-02-01T13:52:22.765469Z",
     "start_time": "2021-02-01T13:52:22.738463Z"
    }
   },
   "outputs": [
    {
     "name": "stdout",
     "output_type": "stream",
     "text": [
      "Confusion matrix for the Kernal SVM: \n",
      " [[  5  62]\n",
      " [  1 275]]\n",
      "\n",
      "Kernal SVM Accuracy score:  0.8163265306122449\n"
     ]
    }
   ],
   "source": [
    "y_pred4 = forthModel.predict(X_test)\n",
    "cm4 = confusion_matrix(y_test, y_pred4)\n",
    "print('Confusion matrix for the Kernal SVM: \\n', cm4)\n",
    "print('\\nKernal SVM Accuracy score: ', accuracy_score(y_test, y_pred4))"
   ]
  },
  {
   "cell_type": "code",
   "execution_count": 80,
   "metadata": {
    "ExecuteTime": {
     "end_time": "2021-02-01T13:54:33.336552Z",
     "start_time": "2021-02-01T13:54:33.271350Z"
    }
   },
   "outputs": [
    {
     "data": {
      "text/plain": [
       "GaussianNB()"
      ]
     },
     "execution_count": 80,
     "metadata": {},
     "output_type": "execute_result"
    }
   ],
   "source": [
    "#Naive Bayes\n",
    "from sklearn.naive_bayes import GaussianNB\n",
    "fifthModel = GaussianNB()\n",
    "fifthModel.fit(X_train, y_train)"
   ]
  },
  {
   "cell_type": "code",
   "execution_count": 89,
   "metadata": {
    "ExecuteTime": {
     "end_time": "2021-02-01T14:29:43.919612Z",
     "start_time": "2021-02-01T14:29:43.559336Z"
    }
   },
   "outputs": [
    {
     "data": {
      "image/png": "[encoded data removed]",
      "text/plain": [
       "<Figure size 432x288 with 2 Axes>"
      ]
     },
     "metadata": {
      "needs_background": "light"
     },
     "output_type": "display_data"
    }
   ],
   "source": [
    "plot_confusion_matrix(fifthModel, X_test, y_test, cmap=plt.cm.Blues)\n",
    "plt.title('Confusion matrix for the Naive Bayes')\n",
    "plt.show()"
   ]
  },
  {
   "cell_type": "code",
   "execution_count": 90,
   "metadata": {
    "ExecuteTime": {
     "end_time": "2021-02-01T14:30:00.069266Z",
     "start_time": "2021-02-01T14:30:00.049411Z"
    }
   },
   "outputs": [
    {
     "name": "stdout",
     "output_type": "stream",
     "text": [
      "Confusion matrix for the Naive Bayes: \n",
      " [[  4  63]\n",
      " [  2 274]]\n",
      "\n",
      "Naive Bayes Accuracy score:  0.8104956268221575\n"
     ]
    }
   ],
   "source": [
    "y_pred5 = fifthModel.predict(X_test)\n",
    "cm5 = confusion_matrix(y_test, y_pred5)\n",
    "print('Confusion matrix for the Naive Bayes: \\n', cm5)\n",
    "print('\\nNaive Bayes Accuracy score: ', accuracy_score(y_test, y_pred5))"
   ]
  },
  {
   "cell_type": "code",
   "execution_count": 88,
   "metadata": {
    "ExecuteTime": {
     "end_time": "2021-02-01T14:29:01.759600Z",
     "start_time": "2021-02-01T14:29:01.729362Z"
    }
   },
   "outputs": [
    {
     "name": "stdout",
     "output_type": "stream",
     "text": [
      "===========================\n",
      "\n",
      "Logistic RegressionAccuracy score:  0.8046647230320699\n",
      "DecisionTree Accuracy score:  0.8046647230320699\n",
      "Random Forest Accuracy score:  0.8775510204081632\n",
      "Kernal SVM Accuracy score:  0.8163265306122449\n",
      "Naive Bayes Accuracy score:  0.8104956268221575\n",
      "\n",
      "===========================\n"
     ]
    }
   ],
   "source": [
    "#See the models\n",
    "print('===========================')\n",
    "print('\\nLogistic RegressionAccuracy score: ', accuracy_score(y_test, y_pred))\n",
    "print('DecisionTree Accuracy score: ', accuracy_score(y_test, y_pred2))\n",
    "print('Random Forest Accuracy score: ', accuracy_score(y_test, y_pred3))\n",
    "print('Kernal SVM Accuracy score: ', accuracy_score(y_test, y_pred4))\n",
    "print('Naive Bayes Accuracy score: ', accuracy_score(y_test, y_pred5))\n",
    "print('\\n===========================')"
   ]
  },
  {
   "cell_type": "code",
   "execution_count": null,
   "metadata": {},
   "outputs": [],
   "source": []
  }
 ],
 "metadata": {
  "kernelspec": {
   "display_name": "Python 3",
   "language": "python",
   "name": "python3"
  },
  "language_info": {
   "codemirror_mode": {
    "name": "ipython",
    "version": 3
   },
   "file_extension": ".py",
   "mimetype": "text/x-python",
   "name": "python",
   "nbconvert_exporter": "python",
   "pygments_lexer": "ipython3",
   "version": "3.7.9"
  },
  "varInspector": {
   "cols": {
    "lenName": 16,
    "lenType": 16,
    "lenVar": 40
   },
   "kernels_config": {
    "python": {
     "delete_cmd_postfix": "",
     "delete_cmd_prefix": "del ",
     "library": "var_list.py",
     "varRefreshCmd": "print(var_dic_list())"
    },
    "r": {
     "delete_cmd_postfix": ") ",
     "delete_cmd_prefix": "rm(",
     "library": "var_list.r",
     "varRefreshCmd": "cat(var_dic_list()) "
    }
   },
   "types_to_exclude": [
    "module",
    "function",
    "builtin_function_or_method",
    "instance",
    "_Feature"
   ],
   "window_display": false
  }
 },
 "nbformat": 4,
 "nbformat_minor": 4
}
